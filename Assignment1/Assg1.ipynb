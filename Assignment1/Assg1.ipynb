{
 "cells": [
  {
   "cell_type": "markdown",
   "metadata": {},
   "source": [
    "# Assignment 1\n",
    "\n",
    "1. The assignment is done and submitted as groups.\n",
    "2. One representative will upload the submission on Dropbox.\n",
    "3. Make sure you installed all packages that are imported in the file before you run the codes.\n",
    "4. Cheating is not allowed!"
   ]
  },
  {
   "cell_type": "markdown",
   "metadata": {},
   "source": [
    "In this data project, we will focus on exploratory data analysis of obesity levels.\n",
    "\n",
    "Let's first load all libraries or packages needed:"
   ]
  },
  {
   "cell_type": "code",
   "execution_count": 47,
   "metadata": {},
   "outputs": [],
   "source": [
    "import pandas as pd\n",
    "import numpy as np\n",
    "import datetime\n",
    "%matplotlib inline"
   ]
  },
  {
   "cell_type": "markdown",
   "metadata": {},
   "source": [
    "## Read the Data"
   ]
  },
  {
   "cell_type": "markdown",
   "metadata": {},
   "source": [
    ">__Task 1__\n",
    ">\n",
    ">- Import the data file \"obesity_level.csv\"\n",
    ">- Check metadata using `info()`"
   ]
  },
  {
   "cell_type": "code",
   "execution_count": 48,
   "metadata": {},
   "outputs": [
    {
     "name": "stdout",
     "output_type": "stream",
     "text": [
      "<class 'pandas.core.frame.DataFrame'>\n",
      "RangeIndex: 2120 entries, 0 to 2119\n",
      "Data columns (total 20 columns):\n",
      " #   Column                          Non-Null Count  Dtype  \n",
      "---  ------                          --------------  -----  \n",
      " 0   year                            2120 non-null   int64  \n",
      " 1   month                           2120 non-null   int64  \n",
      " 2   day                             2120 non-null   int64  \n",
      " 3   gender                          2111 non-null   object \n",
      " 4   age                             2120 non-null   float64\n",
      " 5   height                          2111 non-null   float64\n",
      " 6   weight                          2111 non-null   float64\n",
      " 7   family_history_with_overweight  2111 non-null   object \n",
      " 8   FAVC                            2111 non-null   object \n",
      " 9   FCVC                            2111 non-null   float64\n",
      " 10  NCP                             2111 non-null   float64\n",
      " 11  CAEC                            2111 non-null   object \n",
      " 12  SMOKE                           2111 non-null   object \n",
      " 13  CH2O                            2111 non-null   float64\n",
      " 14  SCC                             2111 non-null   object \n",
      " 15  FAF                             2111 non-null   float64\n",
      " 16  TUE                             2111 non-null   float64\n",
      " 17  CALC                            2111 non-null   object \n",
      " 18  MTRANS                          2111 non-null   object \n",
      " 19  NObeyesdad                      2111 non-null   object \n",
      "dtypes: float64(8), int64(3), object(9)\n",
      "memory usage: 331.4+ KB\n"
     ]
    }
   ],
   "source": [
    "obs_df = pd.read_csv('obesity_level.csv')\n",
    "obs_df.info()"
   ]
  },
  {
   "cell_type": "markdown",
   "metadata": {},
   "source": [
    ">__Task 2__\n",
    ">\n",
    ">Check the top 10 rows of the obesity data frame"
   ]
  },
  {
   "cell_type": "code",
   "execution_count": 49,
   "metadata": {},
   "outputs": [
    {
     "data": {
      "text/html": [
       "<div>\n",
       "<style scoped>\n",
       "    .dataframe tbody tr th:only-of-type {\n",
       "        vertical-align: middle;\n",
       "    }\n",
       "\n",
       "    .dataframe tbody tr th {\n",
       "        vertical-align: top;\n",
       "    }\n",
       "\n",
       "    .dataframe thead th {\n",
       "        text-align: right;\n",
       "    }\n",
       "</style>\n",
       "<table border=\"1\" class=\"dataframe\">\n",
       "  <thead>\n",
       "    <tr style=\"text-align: right;\">\n",
       "      <th></th>\n",
       "      <th>year</th>\n",
       "      <th>month</th>\n",
       "      <th>day</th>\n",
       "      <th>gender</th>\n",
       "      <th>age</th>\n",
       "      <th>height</th>\n",
       "      <th>weight</th>\n",
       "      <th>family_history_with_overweight</th>\n",
       "      <th>FAVC</th>\n",
       "      <th>FCVC</th>\n",
       "      <th>NCP</th>\n",
       "      <th>CAEC</th>\n",
       "      <th>SMOKE</th>\n",
       "      <th>CH2O</th>\n",
       "      <th>SCC</th>\n",
       "      <th>FAF</th>\n",
       "      <th>TUE</th>\n",
       "      <th>CALC</th>\n",
       "      <th>MTRANS</th>\n",
       "      <th>NObeyesdad</th>\n",
       "    </tr>\n",
       "  </thead>\n",
       "  <tbody>\n",
       "    <tr>\n",
       "      <th>0</th>\n",
       "      <td>2015</td>\n",
       "      <td>9</td>\n",
       "      <td>22</td>\n",
       "      <td>Female</td>\n",
       "      <td>21.0</td>\n",
       "      <td>1.62</td>\n",
       "      <td>64.0</td>\n",
       "      <td>yes</td>\n",
       "      <td>no</td>\n",
       "      <td>2.0</td>\n",
       "      <td>3.0</td>\n",
       "      <td>Sometimes</td>\n",
       "      <td>no</td>\n",
       "      <td>2.0</td>\n",
       "      <td>no</td>\n",
       "      <td>0.0</td>\n",
       "      <td>1.0</td>\n",
       "      <td>no</td>\n",
       "      <td>Public_Transportation</td>\n",
       "      <td>Normal_Weight</td>\n",
       "    </tr>\n",
       "    <tr>\n",
       "      <th>1</th>\n",
       "      <td>2015</td>\n",
       "      <td>10</td>\n",
       "      <td>19</td>\n",
       "      <td>Female</td>\n",
       "      <td>21.0</td>\n",
       "      <td>1.52</td>\n",
       "      <td>56.0</td>\n",
       "      <td>yes</td>\n",
       "      <td>no</td>\n",
       "      <td>3.0</td>\n",
       "      <td>3.0</td>\n",
       "      <td>Sometimes</td>\n",
       "      <td>yes</td>\n",
       "      <td>3.0</td>\n",
       "      <td>yes</td>\n",
       "      <td>3.0</td>\n",
       "      <td>0.0</td>\n",
       "      <td>Sometimes</td>\n",
       "      <td>Public_Transportation</td>\n",
       "      <td>Normal_Weight</td>\n",
       "    </tr>\n",
       "    <tr>\n",
       "      <th>2</th>\n",
       "      <td>2015</td>\n",
       "      <td>1</td>\n",
       "      <td>19</td>\n",
       "      <td>Male</td>\n",
       "      <td>23.0</td>\n",
       "      <td>1.80</td>\n",
       "      <td>77.0</td>\n",
       "      <td>yes</td>\n",
       "      <td>no</td>\n",
       "      <td>2.0</td>\n",
       "      <td>3.0</td>\n",
       "      <td>Sometimes</td>\n",
       "      <td>no</td>\n",
       "      <td>2.0</td>\n",
       "      <td>no</td>\n",
       "      <td>2.0</td>\n",
       "      <td>1.0</td>\n",
       "      <td>Frequently</td>\n",
       "      <td>Public_Transportation</td>\n",
       "      <td>Normal_Weight</td>\n",
       "    </tr>\n",
       "    <tr>\n",
       "      <th>3</th>\n",
       "      <td>2015</td>\n",
       "      <td>11</td>\n",
       "      <td>17</td>\n",
       "      <td>Male</td>\n",
       "      <td>27.0</td>\n",
       "      <td>1.80</td>\n",
       "      <td>87.0</td>\n",
       "      <td>no</td>\n",
       "      <td>no</td>\n",
       "      <td>3.0</td>\n",
       "      <td>3.0</td>\n",
       "      <td>Sometimes</td>\n",
       "      <td>no</td>\n",
       "      <td>2.0</td>\n",
       "      <td>no</td>\n",
       "      <td>2.0</td>\n",
       "      <td>0.0</td>\n",
       "      <td>Frequently</td>\n",
       "      <td>Walking</td>\n",
       "      <td>Overweight_Level_I</td>\n",
       "    </tr>\n",
       "    <tr>\n",
       "      <th>4</th>\n",
       "      <td>2015</td>\n",
       "      <td>2</td>\n",
       "      <td>24</td>\n",
       "      <td>Male</td>\n",
       "      <td>22.0</td>\n",
       "      <td>1.78</td>\n",
       "      <td>89.8</td>\n",
       "      <td>no</td>\n",
       "      <td>no</td>\n",
       "      <td>2.0</td>\n",
       "      <td>1.0</td>\n",
       "      <td>Sometimes</td>\n",
       "      <td>no</td>\n",
       "      <td>2.0</td>\n",
       "      <td>no</td>\n",
       "      <td>0.0</td>\n",
       "      <td>0.0</td>\n",
       "      <td>Sometimes</td>\n",
       "      <td>Public_Transportation</td>\n",
       "      <td>Overweight_Level_II</td>\n",
       "    </tr>\n",
       "    <tr>\n",
       "      <th>5</th>\n",
       "      <td>2015</td>\n",
       "      <td>5</td>\n",
       "      <td>4</td>\n",
       "      <td>Male</td>\n",
       "      <td>29.0</td>\n",
       "      <td>1.62</td>\n",
       "      <td>53.0</td>\n",
       "      <td>no</td>\n",
       "      <td>yes</td>\n",
       "      <td>2.0</td>\n",
       "      <td>3.0</td>\n",
       "      <td>Sometimes</td>\n",
       "      <td>no</td>\n",
       "      <td>2.0</td>\n",
       "      <td>no</td>\n",
       "      <td>0.0</td>\n",
       "      <td>0.0</td>\n",
       "      <td>Sometimes</td>\n",
       "      <td>Automobile</td>\n",
       "      <td>Normal_Weight</td>\n",
       "    </tr>\n",
       "    <tr>\n",
       "      <th>6</th>\n",
       "      <td>2016</td>\n",
       "      <td>2</td>\n",
       "      <td>22</td>\n",
       "      <td>Female</td>\n",
       "      <td>23.0</td>\n",
       "      <td>1.50</td>\n",
       "      <td>55.0</td>\n",
       "      <td>yes</td>\n",
       "      <td>yes</td>\n",
       "      <td>3.0</td>\n",
       "      <td>3.0</td>\n",
       "      <td>Sometimes</td>\n",
       "      <td>no</td>\n",
       "      <td>2.0</td>\n",
       "      <td>no</td>\n",
       "      <td>1.0</td>\n",
       "      <td>0.0</td>\n",
       "      <td>Sometimes</td>\n",
       "      <td>Motorbike</td>\n",
       "      <td>Normal_Weight</td>\n",
       "    </tr>\n",
       "    <tr>\n",
       "      <th>7</th>\n",
       "      <td>2016</td>\n",
       "      <td>8</td>\n",
       "      <td>14</td>\n",
       "      <td>Male</td>\n",
       "      <td>22.0</td>\n",
       "      <td>1.64</td>\n",
       "      <td>53.0</td>\n",
       "      <td>no</td>\n",
       "      <td>no</td>\n",
       "      <td>2.0</td>\n",
       "      <td>3.0</td>\n",
       "      <td>Sometimes</td>\n",
       "      <td>no</td>\n",
       "      <td>2.0</td>\n",
       "      <td>no</td>\n",
       "      <td>3.0</td>\n",
       "      <td>0.0</td>\n",
       "      <td>Sometimes</td>\n",
       "      <td>Public_Transportation</td>\n",
       "      <td>Normal_Weight</td>\n",
       "    </tr>\n",
       "    <tr>\n",
       "      <th>8</th>\n",
       "      <td>2015</td>\n",
       "      <td>4</td>\n",
       "      <td>13</td>\n",
       "      <td>Male</td>\n",
       "      <td>24.0</td>\n",
       "      <td>1.78</td>\n",
       "      <td>64.0</td>\n",
       "      <td>yes</td>\n",
       "      <td>yes</td>\n",
       "      <td>3.0</td>\n",
       "      <td>3.0</td>\n",
       "      <td>Sometimes</td>\n",
       "      <td>no</td>\n",
       "      <td>2.0</td>\n",
       "      <td>no</td>\n",
       "      <td>1.0</td>\n",
       "      <td>1.0</td>\n",
       "      <td>Frequently</td>\n",
       "      <td>Public_Transportation</td>\n",
       "      <td>Normal_Weight</td>\n",
       "    </tr>\n",
       "    <tr>\n",
       "      <th>9</th>\n",
       "      <td>2016</td>\n",
       "      <td>5</td>\n",
       "      <td>20</td>\n",
       "      <td>Male</td>\n",
       "      <td>22.0</td>\n",
       "      <td>1.72</td>\n",
       "      <td>68.0</td>\n",
       "      <td>yes</td>\n",
       "      <td>yes</td>\n",
       "      <td>2.0</td>\n",
       "      <td>3.0</td>\n",
       "      <td>Sometimes</td>\n",
       "      <td>no</td>\n",
       "      <td>2.0</td>\n",
       "      <td>no</td>\n",
       "      <td>1.0</td>\n",
       "      <td>1.0</td>\n",
       "      <td>no</td>\n",
       "      <td>Public_Transportation</td>\n",
       "      <td>Normal_Weight</td>\n",
       "    </tr>\n",
       "  </tbody>\n",
       "</table>\n",
       "</div>"
      ],
      "text/plain": [
       "   year  month  day  gender   age  height  weight  \\\n",
       "0  2015      9   22  Female  21.0    1.62    64.0   \n",
       "1  2015     10   19  Female  21.0    1.52    56.0   \n",
       "2  2015      1   19    Male  23.0    1.80    77.0   \n",
       "3  2015     11   17    Male  27.0    1.80    87.0   \n",
       "4  2015      2   24    Male  22.0    1.78    89.8   \n",
       "5  2015      5    4    Male  29.0    1.62    53.0   \n",
       "6  2016      2   22  Female  23.0    1.50    55.0   \n",
       "7  2016      8   14    Male  22.0    1.64    53.0   \n",
       "8  2015      4   13    Male  24.0    1.78    64.0   \n",
       "9  2016      5   20    Male  22.0    1.72    68.0   \n",
       "\n",
       "  family_history_with_overweight FAVC  FCVC  NCP       CAEC SMOKE  CH2O  SCC  \\\n",
       "0                            yes   no   2.0  3.0  Sometimes    no   2.0   no   \n",
       "1                            yes   no   3.0  3.0  Sometimes   yes   3.0  yes   \n",
       "2                            yes   no   2.0  3.0  Sometimes    no   2.0   no   \n",
       "3                             no   no   3.0  3.0  Sometimes    no   2.0   no   \n",
       "4                             no   no   2.0  1.0  Sometimes    no   2.0   no   \n",
       "5                             no  yes   2.0  3.0  Sometimes    no   2.0   no   \n",
       "6                            yes  yes   3.0  3.0  Sometimes    no   2.0   no   \n",
       "7                             no   no   2.0  3.0  Sometimes    no   2.0   no   \n",
       "8                            yes  yes   3.0  3.0  Sometimes    no   2.0   no   \n",
       "9                            yes  yes   2.0  3.0  Sometimes    no   2.0   no   \n",
       "\n",
       "   FAF  TUE        CALC                 MTRANS           NObeyesdad  \n",
       "0  0.0  1.0          no  Public_Transportation        Normal_Weight  \n",
       "1  3.0  0.0   Sometimes  Public_Transportation        Normal_Weight  \n",
       "2  2.0  1.0  Frequently  Public_Transportation        Normal_Weight  \n",
       "3  2.0  0.0  Frequently                Walking   Overweight_Level_I  \n",
       "4  0.0  0.0   Sometimes  Public_Transportation  Overweight_Level_II  \n",
       "5  0.0  0.0   Sometimes             Automobile        Normal_Weight  \n",
       "6  1.0  0.0   Sometimes              Motorbike        Normal_Weight  \n",
       "7  3.0  0.0   Sometimes  Public_Transportation        Normal_Weight  \n",
       "8  1.0  1.0  Frequently  Public_Transportation        Normal_Weight  \n",
       "9  1.0  1.0          no  Public_Transportation        Normal_Weight  "
      ]
     },
     "execution_count": 49,
     "metadata": {},
     "output_type": "execute_result"
    }
   ],
   "source": [
    "obs_df.head(10)"
   ]
  },
  {
   "cell_type": "markdown",
   "metadata": {},
   "source": [
    "Do you know which columns contain date information? The first three columns (i.e., __year__, __month__, __day__) are integers, shown as `int64` from the metadata above."
   ]
  },
  {
   "cell_type": "markdown",
   "metadata": {},
   "source": [
    ">__Task 3__\n",
    ">\n",
    ">- Combine and convert these three columns to `date` column, which contains `datetime` type\n",
    ">- Confirm the result by printing its data type"
   ]
  },
  {
   "cell_type": "code",
   "execution_count": 50,
   "metadata": {},
   "outputs": [
    {
     "name": "stdout",
     "output_type": "stream",
     "text": [
      "int64\n",
      "int64\n",
      "int64\n"
     ]
    }
   ],
   "source": [
    "# Print data type\n",
    "print(obs_df['year'].dtype)\n",
    "print(obs_df['month'].dtype)\n",
    "print(obs_df['day'].dtype)"
   ]
  },
  {
   "cell_type": "markdown",
   "metadata": {},
   "source": [
    "It looks the date is not read as date"
   ]
  },
  {
   "cell_type": "code",
   "execution_count": 51,
   "metadata": {},
   "outputs": [
    {
     "data": {
      "text/plain": [
       "0      2015-09-22\n",
       "1      2015-10-19\n",
       "2      2015-01-19\n",
       "3      2015-11-17\n",
       "4      2015-02-24\n",
       "          ...    \n",
       "2115   2015-06-26\n",
       "2116   2015-07-22\n",
       "2117   2016-05-04\n",
       "2118   2015-12-02\n",
       "2119   2015-01-25\n",
       "Name: date, Length: 2120, dtype: datetime64[ns]"
      ]
     },
     "execution_count": 51,
     "metadata": {},
     "output_type": "execute_result"
    }
   ],
   "source": [
    "obs_df['date'] = pd.to_datetime(obs_df['year'].astype(str) + '-' + obs_df['month'].astype(str) + '-' + obs_df['day'].astype(str))\n",
    "\n",
    "# Call the column to see results\n",
    "obs_df['date']"
   ]
  },
  {
   "cell_type": "code",
   "execution_count": 52,
   "metadata": {},
   "outputs": [
    {
     "name": "stdout",
     "output_type": "stream",
     "text": [
      "datetime64[ns]\n"
     ]
    }
   ],
   "source": [
    "# Print data type\n",
    "print(obs_df['date'].dtype)"
   ]
  },
  {
   "cell_type": "markdown",
   "metadata": {},
   "source": [
    "Now, let's look at the last column __NObeyesdad__, which has the obesity levels."
   ]
  },
  {
   "cell_type": "markdown",
   "metadata": {},
   "source": [
    ">__Task 4__\n",
    ">\n",
    "> Find the unique entries in __NObeyesdad__ column.\n"
   ]
  },
  {
   "cell_type": "code",
   "execution_count": 53,
   "metadata": {},
   "outputs": [
    {
     "data": {
      "text/plain": [
       "NObeyesdad\n",
       "Obesity_Type_I         351\n",
       "Obesity_Type_III       324\n",
       "Obesity_Type_II        297\n",
       "Overweight_Level_I     290\n",
       "Overweight_Level_II    290\n",
       "Normal_Weight          287\n",
       "Insufficient_Weight    272\n",
       "Name: count, dtype: int64"
      ]
     },
     "execution_count": 53,
     "metadata": {},
     "output_type": "execute_result"
    }
   ],
   "source": [
    "obs_df['NObeyesdad'].value_counts()"
   ]
  },
  {
   "cell_type": "markdown",
   "metadata": {},
   "source": [
    "## Data Cleansing"
   ]
  },
  {
   "cell_type": "markdown",
   "metadata": {},
   "source": [
    ">__Task 5__\n",
    ">\n",
    ">- Print the min and max date in the dataset"
   ]
  },
  {
   "cell_type": "code",
   "execution_count": 54,
   "metadata": {},
   "outputs": [
    {
     "name": "stdout",
     "output_type": "stream",
     "text": [
      "Min date in the dataset: 2015-01-01 00:00:00\n",
      "Max date in the dataset: 2016-12-27 00:00:00\n"
     ]
    }
   ],
   "source": [
    "# Print the min date in the dataset\n",
    "print('Min date in the dataset:', obs_df['date'].min())\n",
    "print('Max date in the dataset:', obs_df['date'].max())"
   ]
  },
  {
   "cell_type": "markdown",
   "metadata": {},
   "source": [
    "Now, we want to find out if there's any missing values in the data."
   ]
  },
  {
   "cell_type": "markdown",
   "metadata": {},
   "source": [
    ">__Task 6__\n",
    ">\n",
    ">- Find the number of missing values in each column\n",
    ">- Retrieve rows with missing values"
   ]
  },
  {
   "cell_type": "code",
   "execution_count": 55,
   "metadata": {},
   "outputs": [
    {
     "data": {
      "text/plain": [
       "year                              0\n",
       "month                             0\n",
       "day                               0\n",
       "gender                            9\n",
       "age                               0\n",
       "height                            9\n",
       "weight                            9\n",
       "family_history_with_overweight    9\n",
       "FAVC                              9\n",
       "FCVC                              9\n",
       "NCP                               9\n",
       "CAEC                              9\n",
       "SMOKE                             9\n",
       "CH2O                              9\n",
       "SCC                               9\n",
       "FAF                               9\n",
       "TUE                               9\n",
       "CALC                              9\n",
       "MTRANS                            9\n",
       "NObeyesdad                        9\n",
       "date                              0\n",
       "dtype: int64"
      ]
     },
     "execution_count": 55,
     "metadata": {},
     "output_type": "execute_result"
    }
   ],
   "source": [
    "# Find the number of missing values in columns\n",
    "obs_df.isna().sum()"
   ]
  },
  {
   "cell_type": "code",
   "execution_count": 56,
   "metadata": {},
   "outputs": [
    {
     "data": {
      "text/html": [
       "<div>\n",
       "<style scoped>\n",
       "    .dataframe tbody tr th:only-of-type {\n",
       "        vertical-align: middle;\n",
       "    }\n",
       "\n",
       "    .dataframe tbody tr th {\n",
       "        vertical-align: top;\n",
       "    }\n",
       "\n",
       "    .dataframe thead th {\n",
       "        text-align: right;\n",
       "    }\n",
       "</style>\n",
       "<table border=\"1\" class=\"dataframe\">\n",
       "  <thead>\n",
       "    <tr style=\"text-align: right;\">\n",
       "      <th></th>\n",
       "      <th>year</th>\n",
       "      <th>month</th>\n",
       "      <th>day</th>\n",
       "      <th>gender</th>\n",
       "      <th>age</th>\n",
       "      <th>height</th>\n",
       "      <th>weight</th>\n",
       "      <th>family_history_with_overweight</th>\n",
       "      <th>FAVC</th>\n",
       "      <th>FCVC</th>\n",
       "      <th>...</th>\n",
       "      <th>CAEC</th>\n",
       "      <th>SMOKE</th>\n",
       "      <th>CH2O</th>\n",
       "      <th>SCC</th>\n",
       "      <th>FAF</th>\n",
       "      <th>TUE</th>\n",
       "      <th>CALC</th>\n",
       "      <th>MTRANS</th>\n",
       "      <th>NObeyesdad</th>\n",
       "      <th>date</th>\n",
       "    </tr>\n",
       "  </thead>\n",
       "  <tbody>\n",
       "    <tr>\n",
       "      <th>2111</th>\n",
       "      <td>2016</td>\n",
       "      <td>4</td>\n",
       "      <td>24</td>\n",
       "      <td>NaN</td>\n",
       "      <td>22.0</td>\n",
       "      <td>NaN</td>\n",
       "      <td>NaN</td>\n",
       "      <td>NaN</td>\n",
       "      <td>NaN</td>\n",
       "      <td>NaN</td>\n",
       "      <td>...</td>\n",
       "      <td>NaN</td>\n",
       "      <td>NaN</td>\n",
       "      <td>NaN</td>\n",
       "      <td>NaN</td>\n",
       "      <td>NaN</td>\n",
       "      <td>NaN</td>\n",
       "      <td>NaN</td>\n",
       "      <td>NaN</td>\n",
       "      <td>NaN</td>\n",
       "      <td>2016-04-24</td>\n",
       "    </tr>\n",
       "    <tr>\n",
       "      <th>2112</th>\n",
       "      <td>2016</td>\n",
       "      <td>10</td>\n",
       "      <td>12</td>\n",
       "      <td>NaN</td>\n",
       "      <td>67.0</td>\n",
       "      <td>NaN</td>\n",
       "      <td>NaN</td>\n",
       "      <td>NaN</td>\n",
       "      <td>NaN</td>\n",
       "      <td>NaN</td>\n",
       "      <td>...</td>\n",
       "      <td>NaN</td>\n",
       "      <td>NaN</td>\n",
       "      <td>NaN</td>\n",
       "      <td>NaN</td>\n",
       "      <td>NaN</td>\n",
       "      <td>NaN</td>\n",
       "      <td>NaN</td>\n",
       "      <td>NaN</td>\n",
       "      <td>NaN</td>\n",
       "      <td>2016-10-12</td>\n",
       "    </tr>\n",
       "    <tr>\n",
       "      <th>2113</th>\n",
       "      <td>2015</td>\n",
       "      <td>4</td>\n",
       "      <td>20</td>\n",
       "      <td>NaN</td>\n",
       "      <td>80.0</td>\n",
       "      <td>NaN</td>\n",
       "      <td>NaN</td>\n",
       "      <td>NaN</td>\n",
       "      <td>NaN</td>\n",
       "      <td>NaN</td>\n",
       "      <td>...</td>\n",
       "      <td>NaN</td>\n",
       "      <td>NaN</td>\n",
       "      <td>NaN</td>\n",
       "      <td>NaN</td>\n",
       "      <td>NaN</td>\n",
       "      <td>NaN</td>\n",
       "      <td>NaN</td>\n",
       "      <td>NaN</td>\n",
       "      <td>NaN</td>\n",
       "      <td>2015-04-20</td>\n",
       "    </tr>\n",
       "    <tr>\n",
       "      <th>2114</th>\n",
       "      <td>2016</td>\n",
       "      <td>5</td>\n",
       "      <td>21</td>\n",
       "      <td>NaN</td>\n",
       "      <td>19.0</td>\n",
       "      <td>NaN</td>\n",
       "      <td>NaN</td>\n",
       "      <td>NaN</td>\n",
       "      <td>NaN</td>\n",
       "      <td>NaN</td>\n",
       "      <td>...</td>\n",
       "      <td>NaN</td>\n",
       "      <td>NaN</td>\n",
       "      <td>NaN</td>\n",
       "      <td>NaN</td>\n",
       "      <td>NaN</td>\n",
       "      <td>NaN</td>\n",
       "      <td>NaN</td>\n",
       "      <td>NaN</td>\n",
       "      <td>NaN</td>\n",
       "      <td>2016-05-21</td>\n",
       "    </tr>\n",
       "    <tr>\n",
       "      <th>2115</th>\n",
       "      <td>2015</td>\n",
       "      <td>6</td>\n",
       "      <td>26</td>\n",
       "      <td>NaN</td>\n",
       "      <td>33.0</td>\n",
       "      <td>NaN</td>\n",
       "      <td>NaN</td>\n",
       "      <td>NaN</td>\n",
       "      <td>NaN</td>\n",
       "      <td>NaN</td>\n",
       "      <td>...</td>\n",
       "      <td>NaN</td>\n",
       "      <td>NaN</td>\n",
       "      <td>NaN</td>\n",
       "      <td>NaN</td>\n",
       "      <td>NaN</td>\n",
       "      <td>NaN</td>\n",
       "      <td>NaN</td>\n",
       "      <td>NaN</td>\n",
       "      <td>NaN</td>\n",
       "      <td>2015-06-26</td>\n",
       "    </tr>\n",
       "    <tr>\n",
       "      <th>2116</th>\n",
       "      <td>2015</td>\n",
       "      <td>7</td>\n",
       "      <td>22</td>\n",
       "      <td>NaN</td>\n",
       "      <td>56.0</td>\n",
       "      <td>NaN</td>\n",
       "      <td>NaN</td>\n",
       "      <td>NaN</td>\n",
       "      <td>NaN</td>\n",
       "      <td>NaN</td>\n",
       "      <td>...</td>\n",
       "      <td>NaN</td>\n",
       "      <td>NaN</td>\n",
       "      <td>NaN</td>\n",
       "      <td>NaN</td>\n",
       "      <td>NaN</td>\n",
       "      <td>NaN</td>\n",
       "      <td>NaN</td>\n",
       "      <td>NaN</td>\n",
       "      <td>NaN</td>\n",
       "      <td>2015-07-22</td>\n",
       "    </tr>\n",
       "    <tr>\n",
       "      <th>2117</th>\n",
       "      <td>2016</td>\n",
       "      <td>5</td>\n",
       "      <td>4</td>\n",
       "      <td>NaN</td>\n",
       "      <td>32.0</td>\n",
       "      <td>NaN</td>\n",
       "      <td>NaN</td>\n",
       "      <td>NaN</td>\n",
       "      <td>NaN</td>\n",
       "      <td>NaN</td>\n",
       "      <td>...</td>\n",
       "      <td>NaN</td>\n",
       "      <td>NaN</td>\n",
       "      <td>NaN</td>\n",
       "      <td>NaN</td>\n",
       "      <td>NaN</td>\n",
       "      <td>NaN</td>\n",
       "      <td>NaN</td>\n",
       "      <td>NaN</td>\n",
       "      <td>NaN</td>\n",
       "      <td>2016-05-04</td>\n",
       "    </tr>\n",
       "    <tr>\n",
       "      <th>2118</th>\n",
       "      <td>2015</td>\n",
       "      <td>12</td>\n",
       "      <td>2</td>\n",
       "      <td>NaN</td>\n",
       "      <td>94.0</td>\n",
       "      <td>NaN</td>\n",
       "      <td>NaN</td>\n",
       "      <td>NaN</td>\n",
       "      <td>NaN</td>\n",
       "      <td>NaN</td>\n",
       "      <td>...</td>\n",
       "      <td>NaN</td>\n",
       "      <td>NaN</td>\n",
       "      <td>NaN</td>\n",
       "      <td>NaN</td>\n",
       "      <td>NaN</td>\n",
       "      <td>NaN</td>\n",
       "      <td>NaN</td>\n",
       "      <td>NaN</td>\n",
       "      <td>NaN</td>\n",
       "      <td>2015-12-02</td>\n",
       "    </tr>\n",
       "    <tr>\n",
       "      <th>2119</th>\n",
       "      <td>2015</td>\n",
       "      <td>1</td>\n",
       "      <td>25</td>\n",
       "      <td>NaN</td>\n",
       "      <td>71.0</td>\n",
       "      <td>NaN</td>\n",
       "      <td>NaN</td>\n",
       "      <td>NaN</td>\n",
       "      <td>NaN</td>\n",
       "      <td>NaN</td>\n",
       "      <td>...</td>\n",
       "      <td>NaN</td>\n",
       "      <td>NaN</td>\n",
       "      <td>NaN</td>\n",
       "      <td>NaN</td>\n",
       "      <td>NaN</td>\n",
       "      <td>NaN</td>\n",
       "      <td>NaN</td>\n",
       "      <td>NaN</td>\n",
       "      <td>NaN</td>\n",
       "      <td>2015-01-25</td>\n",
       "    </tr>\n",
       "  </tbody>\n",
       "</table>\n",
       "<p>9 rows × 21 columns</p>\n",
       "</div>"
      ],
      "text/plain": [
       "      year  month  day gender   age  height  weight  \\\n",
       "2111  2016      4   24    NaN  22.0     NaN     NaN   \n",
       "2112  2016     10   12    NaN  67.0     NaN     NaN   \n",
       "2113  2015      4   20    NaN  80.0     NaN     NaN   \n",
       "2114  2016      5   21    NaN  19.0     NaN     NaN   \n",
       "2115  2015      6   26    NaN  33.0     NaN     NaN   \n",
       "2116  2015      7   22    NaN  56.0     NaN     NaN   \n",
       "2117  2016      5    4    NaN  32.0     NaN     NaN   \n",
       "2118  2015     12    2    NaN  94.0     NaN     NaN   \n",
       "2119  2015      1   25    NaN  71.0     NaN     NaN   \n",
       "\n",
       "     family_history_with_overweight FAVC  FCVC  ...  CAEC SMOKE CH2O  SCC FAF  \\\n",
       "2111                            NaN  NaN   NaN  ...   NaN   NaN  NaN  NaN NaN   \n",
       "2112                            NaN  NaN   NaN  ...   NaN   NaN  NaN  NaN NaN   \n",
       "2113                            NaN  NaN   NaN  ...   NaN   NaN  NaN  NaN NaN   \n",
       "2114                            NaN  NaN   NaN  ...   NaN   NaN  NaN  NaN NaN   \n",
       "2115                            NaN  NaN   NaN  ...   NaN   NaN  NaN  NaN NaN   \n",
       "2116                            NaN  NaN   NaN  ...   NaN   NaN  NaN  NaN NaN   \n",
       "2117                            NaN  NaN   NaN  ...   NaN   NaN  NaN  NaN NaN   \n",
       "2118                            NaN  NaN   NaN  ...   NaN   NaN  NaN  NaN NaN   \n",
       "2119                            NaN  NaN   NaN  ...   NaN   NaN  NaN  NaN NaN   \n",
       "\n",
       "      TUE  CALC MTRANS NObeyesdad       date  \n",
       "2111  NaN   NaN    NaN        NaN 2016-04-24  \n",
       "2112  NaN   NaN    NaN        NaN 2016-10-12  \n",
       "2113  NaN   NaN    NaN        NaN 2015-04-20  \n",
       "2114  NaN   NaN    NaN        NaN 2016-05-21  \n",
       "2115  NaN   NaN    NaN        NaN 2015-06-26  \n",
       "2116  NaN   NaN    NaN        NaN 2015-07-22  \n",
       "2117  NaN   NaN    NaN        NaN 2016-05-04  \n",
       "2118  NaN   NaN    NaN        NaN 2015-12-02  \n",
       "2119  NaN   NaN    NaN        NaN 2015-01-25  \n",
       "\n",
       "[9 rows x 21 columns]"
      ]
     },
     "execution_count": 56,
     "metadata": {},
     "output_type": "execute_result"
    }
   ],
   "source": [
    "# Retrieve missing values in rows\n",
    "obs_df[obs_df.isnull().any(axis=1)]"
   ]
  },
  {
   "cell_type": "markdown",
   "metadata": {},
   "source": [
    "Looks like some records only contain age data on file and have missing values in all the other essential columns."
   ]
  },
  {
   "cell_type": "markdown",
   "metadata": {},
   "source": [
    "> __Task 7__\n",
    ">\n",
    "> Handle missing values. What is your suggestion? Removing all rows with NA or removing the column if it has NA? One is the correct answer."
   ]
  },
  {
   "cell_type": "code",
   "execution_count": 57,
   "metadata": {},
   "outputs": [],
   "source": [
    "# Our suggestion is to drop all rows with NA since removing 14 rows out of 2111 rows will not affect the analysis.\n",
    "# Therefore, removing the column if it has NA would mean removing basically all the data.\n",
    "obs_df = obs_df.dropna()"
   ]
  },
  {
   "cell_type": "code",
   "execution_count": 58,
   "metadata": {},
   "outputs": [
    {
     "data": {
      "text/plain": [
       "year                              0\n",
       "month                             0\n",
       "day                               0\n",
       "gender                            0\n",
       "age                               0\n",
       "height                            0\n",
       "weight                            0\n",
       "family_history_with_overweight    0\n",
       "FAVC                              0\n",
       "FCVC                              0\n",
       "NCP                               0\n",
       "CAEC                              0\n",
       "SMOKE                             0\n",
       "CH2O                              0\n",
       "SCC                               0\n",
       "FAF                               0\n",
       "TUE                               0\n",
       "CALC                              0\n",
       "MTRANS                            0\n",
       "NObeyesdad                        0\n",
       "date                              0\n",
       "dtype: int64"
      ]
     },
     "execution_count": 58,
     "metadata": {},
     "output_type": "execute_result"
    }
   ],
   "source": [
    "# Find the number of missing variables again\n",
    "obs_df.isna().sum()"
   ]
  },
  {
   "cell_type": "markdown",
   "metadata": {},
   "source": [
    "Also, we want to find out if there's any duplicated values. Note that this data set does not have an id column. So, we need to be cautious and infer duplicates by including ALL the values (not just a few columns)."
   ]
  },
  {
   "cell_type": "markdown",
   "metadata": {},
   "source": [
    ">__Task 8__\n",
    ">\n",
    ">Check if there is any duplicates in the data set. Do you need to remove duplicates?"
   ]
  },
  {
   "cell_type": "code",
   "execution_count": 59,
   "metadata": {},
   "outputs": [
    {
     "data": {
      "text/plain": [
       "0"
      ]
     },
     "execution_count": 59,
     "metadata": {},
     "output_type": "execute_result"
    }
   ],
   "source": [
    "# Find the number of duplicates\n",
    "obs_df.duplicated().sum()\n",
    "# We see that there are no duplicates. Therefore we do not need to remove any duplicates."
   ]
  },
  {
   "cell_type": "markdown",
   "metadata": {},
   "source": [
    "## Data Analysis and Preprocessing"
   ]
  },
  {
   "cell_type": "markdown",
   "metadata": {},
   "source": [
    "Let's explore the data more. Most of the columns in the data set describe the attributes of eating habits and physical conditions, i.e., __FAVC__, __FCVC__, __NCP__, __CAEC__, __SMOKE__, __CH2O__, __SCC__, __FAF__, __TUE__, __CALC__, __MTRANS__. We will dive into a few attributes."
   ]
  },
  {
   "cell_type": "markdown",
   "metadata": {},
   "source": [
    ">__Task 9__\n",
    ">\n",
    ">- Check the min, max, and average values of the __age__ column\n",
    ">- Find out how many data points are in each gender group"
   ]
  },
  {
   "cell_type": "code",
   "execution_count": 60,
   "metadata": {},
   "outputs": [
    {
     "name": "stdout",
     "output_type": "stream",
     "text": [
      "Min age: 14.0\n",
      "Max age: 61.0\n",
      "Mean age: 24.312599908574136\n"
     ]
    }
   ],
   "source": [
    "# Check values\n",
    "min_age = obs_df['age'].min()\n",
    "max_age = obs_df['age'].max()\n",
    "mean_age = obs_df['age'].mean()\n",
    "\n",
    "print('Min age:', min_age)\n",
    "print('Max age:', max_age)\n",
    "print('Mean age:', mean_age)"
   ]
  },
  {
   "cell_type": "code",
   "execution_count": 61,
   "metadata": {},
   "outputs": [
    {
     "data": {
      "text/plain": [
       "gender\n",
       "Male      1068\n",
       "Female    1043\n",
       "Name: count, dtype: int64"
      ]
     },
     "execution_count": 61,
     "metadata": {},
     "output_type": "execute_result"
    }
   ],
   "source": [
    "# Count values for each gender group\n",
    "obs_df['gender'].value_counts()"
   ]
  },
  {
   "cell_type": "markdown",
   "metadata": {},
   "source": [
    ">__Task 10__\n",
    ">\n",
    ">- Find out what are the values and the corresponding counts in the __NObeyesdad__ column. Is it a ordinal or nominal variable?\n",
    ">   - You can count the values in the column\n",
    ">   - It seems like there is an order between different levels of obesity, ain't it?\n",
    ">- Depending on which is the correct variable type (nominal or ordinal) convert the `NObesity_encoded` column to numeric using an encoder or map function."
   ]
  },
  {
   "cell_type": "code",
   "execution_count": 62,
   "metadata": {},
   "outputs": [
    {
     "data": {
      "text/plain": [
       "NObeyesdad\n",
       "Obesity_Type_I         351\n",
       "Obesity_Type_III       324\n",
       "Obesity_Type_II        297\n",
       "Overweight_Level_I     290\n",
       "Overweight_Level_II    290\n",
       "Normal_Weight          287\n",
       "Insufficient_Weight    272\n",
       "Name: count, dtype: int64"
      ]
     },
     "execution_count": 62,
     "metadata": {},
     "output_type": "execute_result"
    }
   ],
   "source": [
    "# Count values\n",
    "obs_df['NObeyesdad'].value_counts()"
   ]
  },
  {
   "cell_type": "code",
   "execution_count": 63,
   "metadata": {},
   "outputs": [
    {
     "data": {
      "text/plain": [
       "NObesity_encoded\n",
       "0    272\n",
       "1    287\n",
       "2    290\n",
       "3    290\n",
       "4    351\n",
       "5    297\n",
       "6    324\n",
       "Name: count, dtype: int64"
      ]
     },
     "execution_count": 63,
     "metadata": {},
     "output_type": "execute_result"
    }
   ],
   "source": [
    "# Convert the NObeyesdad variable to numeric using a map function\n",
    "obs_df['NObesity_encoded'] = obs_df['NObeyesdad'].map({'Insufficient_Weight': 0, 'Normal_Weight': 1, 'Overweight_Level_I': 2, 'Overweight_Level_II': 3, 'Obesity_Type_I': 4, 'Obesity_Type_II': 5, 'Obesity_Type_III': 6})\n",
    "# We check the new column (we order it)\n",
    "obs_df['NObesity_encoded'].value_counts().sort_index()"
   ]
  },
  {
   "cell_type": "markdown",
   "metadata": {},
   "source": [
    ">__Task 11__\n",
    ">\n",
    ">- Check the values of __CAEC__ (consumption of food between meals) and __CALC__ (consumption of alcohol). Do they have same categorical values?\n",
    ">- Convert each of the two variables to numeric: `CAEC_encoded` and `CALC_encoded`. Pay attention to the ordinal or nominal type."
   ]
  },
  {
   "cell_type": "code",
   "execution_count": 64,
   "metadata": {},
   "outputs": [
    {
     "data": {
      "text/plain": [
       "CAEC\n",
       "Sometimes     1765\n",
       "Frequently     242\n",
       "Always          53\n",
       "no              51\n",
       "Name: count, dtype: int64"
      ]
     },
     "execution_count": 64,
     "metadata": {},
     "output_type": "execute_result"
    }
   ],
   "source": [
    "# Check the values of CAEC\n",
    "obs_df['CAEC'].value_counts()"
   ]
  },
  {
   "cell_type": "code",
   "execution_count": 65,
   "metadata": {},
   "outputs": [
    {
     "data": {
      "text/plain": [
       "CALC\n",
       "Sometimes     1401\n",
       "no             639\n",
       "Frequently      70\n",
       "Always           1\n",
       "Name: count, dtype: int64"
      ]
     },
     "execution_count": 65,
     "metadata": {},
     "output_type": "execute_result"
    }
   ],
   "source": [
    "# Check the values of CALC \n",
    "obs_df['CALC'].value_counts()"
   ]
  },
  {
   "cell_type": "code",
   "execution_count": 66,
   "metadata": {},
   "outputs": [],
   "source": [
    "# Convert each of the two variables to numeric\n",
    "obs_df['CAEC_encoded'] = obs_df['CAEC'].map({'no': 0, 'Sometimes': 1, 'Frequently': 2, 'Always': 3})\n",
    "obs_df['CALC_encoded'] = obs_df['CALC'].map({'no': 0, 'Sometimes': 1, 'Frequently': 2, 'Always': 3})"
   ]
  },
  {
   "cell_type": "code",
   "execution_count": 67,
   "metadata": {},
   "outputs": [
    {
     "name": "stdout",
     "output_type": "stream",
     "text": [
      "CAEC_encoded\n",
      "0      51\n",
      "1    1765\n",
      "2     242\n",
      "3      53\n",
      "Name: count, dtype: int64\n",
      "CALC_encoded\n",
      "0     639\n",
      "1    1401\n",
      "2      70\n",
      "3       1\n",
      "Name: count, dtype: int64\n"
     ]
    }
   ],
   "source": [
    "# Check whether the encoding works\n",
    "print(obs_df['CAEC_encoded'].value_counts().sort_index())\n",
    "print(obs_df['CALC_encoded'].value_counts().sort_index())"
   ]
  },
  {
   "cell_type": "markdown",
   "metadata": {},
   "source": [
    ">__Task 12__\n",
    ">\n",
    ">- Check the values of transportation used (__MTRANS__ column). It is nominal variable.\n",
    ">- Convert it to numeric using one-hot encoding and use the value as the new column names, e.g., `Automobile` and `Bike`. Hint: you can use either `get_dummies` from pandas or `OneHotEncoder` from sklearn. The latter will require some extra steps to merge back to the original dataset."
   ]
  },
  {
   "cell_type": "code",
   "execution_count": 68,
   "metadata": {},
   "outputs": [
    {
     "name": "stdout",
     "output_type": "stream",
     "text": [
      "MTRANS\n",
      "Automobile                457\n",
      "Bike                        7\n",
      "Motorbike                  11\n",
      "Public_Transportation    1580\n",
      "Walking                    56\n",
      "Name: count, dtype: int64\n"
     ]
    }
   ],
   "source": [
    "# Check the values\n",
    "print(obs_df['MTRANS'].value_counts().sort_index())"
   ]
  },
  {
   "cell_type": "code",
   "execution_count": 69,
   "metadata": {},
   "outputs": [
    {
     "data": {
      "text/html": [
       "<div>\n",
       "<style scoped>\n",
       "    .dataframe tbody tr th:only-of-type {\n",
       "        vertical-align: middle;\n",
       "    }\n",
       "\n",
       "    .dataframe tbody tr th {\n",
       "        vertical-align: top;\n",
       "    }\n",
       "\n",
       "    .dataframe thead th {\n",
       "        text-align: right;\n",
       "    }\n",
       "</style>\n",
       "<table border=\"1\" class=\"dataframe\">\n",
       "  <thead>\n",
       "    <tr style=\"text-align: right;\">\n",
       "      <th></th>\n",
       "      <th>year</th>\n",
       "      <th>month</th>\n",
       "      <th>day</th>\n",
       "      <th>gender</th>\n",
       "      <th>age</th>\n",
       "      <th>height</th>\n",
       "      <th>weight</th>\n",
       "      <th>family_history_with_overweight</th>\n",
       "      <th>FAVC</th>\n",
       "      <th>FCVC</th>\n",
       "      <th>...</th>\n",
       "      <th>NObeyesdad</th>\n",
       "      <th>date</th>\n",
       "      <th>NObesity_encoded</th>\n",
       "      <th>CAEC_encoded</th>\n",
       "      <th>CALC_encoded</th>\n",
       "      <th>Automobile</th>\n",
       "      <th>Bike</th>\n",
       "      <th>Motorbike</th>\n",
       "      <th>Public_Transportation</th>\n",
       "      <th>Walking</th>\n",
       "    </tr>\n",
       "  </thead>\n",
       "  <tbody>\n",
       "    <tr>\n",
       "      <th>0</th>\n",
       "      <td>2015</td>\n",
       "      <td>9</td>\n",
       "      <td>22</td>\n",
       "      <td>Female</td>\n",
       "      <td>21.0</td>\n",
       "      <td>1.62</td>\n",
       "      <td>64.0</td>\n",
       "      <td>yes</td>\n",
       "      <td>no</td>\n",
       "      <td>2.0</td>\n",
       "      <td>...</td>\n",
       "      <td>Normal_Weight</td>\n",
       "      <td>2015-09-22</td>\n",
       "      <td>1</td>\n",
       "      <td>1</td>\n",
       "      <td>0</td>\n",
       "      <td>False</td>\n",
       "      <td>False</td>\n",
       "      <td>False</td>\n",
       "      <td>True</td>\n",
       "      <td>False</td>\n",
       "    </tr>\n",
       "    <tr>\n",
       "      <th>1</th>\n",
       "      <td>2015</td>\n",
       "      <td>10</td>\n",
       "      <td>19</td>\n",
       "      <td>Female</td>\n",
       "      <td>21.0</td>\n",
       "      <td>1.52</td>\n",
       "      <td>56.0</td>\n",
       "      <td>yes</td>\n",
       "      <td>no</td>\n",
       "      <td>3.0</td>\n",
       "      <td>...</td>\n",
       "      <td>Normal_Weight</td>\n",
       "      <td>2015-10-19</td>\n",
       "      <td>1</td>\n",
       "      <td>1</td>\n",
       "      <td>1</td>\n",
       "      <td>False</td>\n",
       "      <td>False</td>\n",
       "      <td>False</td>\n",
       "      <td>True</td>\n",
       "      <td>False</td>\n",
       "    </tr>\n",
       "    <tr>\n",
       "      <th>2</th>\n",
       "      <td>2015</td>\n",
       "      <td>1</td>\n",
       "      <td>19</td>\n",
       "      <td>Male</td>\n",
       "      <td>23.0</td>\n",
       "      <td>1.80</td>\n",
       "      <td>77.0</td>\n",
       "      <td>yes</td>\n",
       "      <td>no</td>\n",
       "      <td>2.0</td>\n",
       "      <td>...</td>\n",
       "      <td>Normal_Weight</td>\n",
       "      <td>2015-01-19</td>\n",
       "      <td>1</td>\n",
       "      <td>1</td>\n",
       "      <td>2</td>\n",
       "      <td>False</td>\n",
       "      <td>False</td>\n",
       "      <td>False</td>\n",
       "      <td>True</td>\n",
       "      <td>False</td>\n",
       "    </tr>\n",
       "    <tr>\n",
       "      <th>3</th>\n",
       "      <td>2015</td>\n",
       "      <td>11</td>\n",
       "      <td>17</td>\n",
       "      <td>Male</td>\n",
       "      <td>27.0</td>\n",
       "      <td>1.80</td>\n",
       "      <td>87.0</td>\n",
       "      <td>no</td>\n",
       "      <td>no</td>\n",
       "      <td>3.0</td>\n",
       "      <td>...</td>\n",
       "      <td>Overweight_Level_I</td>\n",
       "      <td>2015-11-17</td>\n",
       "      <td>2</td>\n",
       "      <td>1</td>\n",
       "      <td>2</td>\n",
       "      <td>False</td>\n",
       "      <td>False</td>\n",
       "      <td>False</td>\n",
       "      <td>False</td>\n",
       "      <td>True</td>\n",
       "    </tr>\n",
       "    <tr>\n",
       "      <th>4</th>\n",
       "      <td>2015</td>\n",
       "      <td>2</td>\n",
       "      <td>24</td>\n",
       "      <td>Male</td>\n",
       "      <td>22.0</td>\n",
       "      <td>1.78</td>\n",
       "      <td>89.8</td>\n",
       "      <td>no</td>\n",
       "      <td>no</td>\n",
       "      <td>2.0</td>\n",
       "      <td>...</td>\n",
       "      <td>Overweight_Level_II</td>\n",
       "      <td>2015-02-24</td>\n",
       "      <td>3</td>\n",
       "      <td>1</td>\n",
       "      <td>1</td>\n",
       "      <td>False</td>\n",
       "      <td>False</td>\n",
       "      <td>False</td>\n",
       "      <td>True</td>\n",
       "      <td>False</td>\n",
       "    </tr>\n",
       "  </tbody>\n",
       "</table>\n",
       "<p>5 rows × 28 columns</p>\n",
       "</div>"
      ],
      "text/plain": [
       "   year  month  day  gender   age  height  weight  \\\n",
       "0  2015      9   22  Female  21.0    1.62    64.0   \n",
       "1  2015     10   19  Female  21.0    1.52    56.0   \n",
       "2  2015      1   19    Male  23.0    1.80    77.0   \n",
       "3  2015     11   17    Male  27.0    1.80    87.0   \n",
       "4  2015      2   24    Male  22.0    1.78    89.8   \n",
       "\n",
       "  family_history_with_overweight FAVC  FCVC  ...           NObeyesdad  \\\n",
       "0                            yes   no   2.0  ...        Normal_Weight   \n",
       "1                            yes   no   3.0  ...        Normal_Weight   \n",
       "2                            yes   no   2.0  ...        Normal_Weight   \n",
       "3                             no   no   3.0  ...   Overweight_Level_I   \n",
       "4                             no   no   2.0  ...  Overweight_Level_II   \n",
       "\n",
       "        date NObesity_encoded  CAEC_encoded CALC_encoded  Automobile   Bike  \\\n",
       "0 2015-09-22                1             1            0       False  False   \n",
       "1 2015-10-19                1             1            1       False  False   \n",
       "2 2015-01-19                1             1            2       False  False   \n",
       "3 2015-11-17                2             1            2       False  False   \n",
       "4 2015-02-24                3             1            1       False  False   \n",
       "\n",
       "  Motorbike Public_Transportation Walking  \n",
       "0     False                  True   False  \n",
       "1     False                  True   False  \n",
       "2     False                  True   False  \n",
       "3     False                 False    True  \n",
       "4     False                  True   False  \n",
       "\n",
       "[5 rows x 28 columns]"
      ]
     },
     "execution_count": 69,
     "metadata": {},
     "output_type": "execute_result"
    }
   ],
   "source": [
    "# Convert the MTRANS variable to numeric using one-hot encoding.\n",
    "obs_df = pd.get_dummies(obs_df, columns=['MTRANS'], prefix='', prefix_sep='')\n",
    "obs_df.head()"
   ]
  },
  {
   "cell_type": "markdown",
   "metadata": {},
   "source": [
    "There are several binary variables in the dataset: __family_history_with_overweight__, __FAVC__ (frequency of consumption of vegetables), __SMOKE__, __SCC__ (calories consumption monitoring). Let's transform these variables."
   ]
  },
  {
   "cell_type": "markdown",
   "metadata": {},
   "source": [
    ">__Task 13__\n",
    ">\n",
    ">- Check the values of __family_history_with_overweight__, __FAVC__, __SMOKE__, __SCC__ \n",
    ">- Convert them to numeric with 1 for `yes` and 0 for `no`. The new columns are names with suffix `_encoded`, e.g., `family_history_with_overweight_encoded`."
   ]
  },
  {
   "cell_type": "code",
   "execution_count": 70,
   "metadata": {},
   "outputs": [
    {
     "name": "stdout",
     "output_type": "stream",
     "text": [
      "family_history_with_overweight\n",
      "no      385\n",
      "yes    1726\n",
      "Name: count, dtype: int64\n",
      "FAVC\n",
      "no      245\n",
      "yes    1866\n",
      "Name: count, dtype: int64\n",
      "SMOKE\n",
      "no     2067\n",
      "yes      44\n",
      "Name: count, dtype: int64\n",
      "SCC\n",
      "no     2015\n",
      "yes      96\n",
      "Name: count, dtype: int64\n"
     ]
    }
   ],
   "source": [
    "# Check the values\n",
    "print(obs_df['family_history_with_overweight'].value_counts().sort_index())\n",
    "print(obs_df['FAVC'].value_counts().sort_index())\n",
    "print(obs_df['SMOKE'].value_counts().sort_index())\n",
    "print(obs_df['SCC'].value_counts().sort_index())"
   ]
  },
  {
   "cell_type": "code",
   "execution_count": 71,
   "metadata": {},
   "outputs": [
    {
     "name": "stdout",
     "output_type": "stream",
     "text": [
      "family_history_with_overweight_encoded\n",
      "0     385\n",
      "1    1726\n",
      "Name: count, dtype: int64\n",
      "FAVC_encoded\n",
      "0     245\n",
      "1    1866\n",
      "Name: count, dtype: int64\n",
      "SMOKE_encoded\n",
      "0    2067\n",
      "1      44\n",
      "Name: count, dtype: int64\n",
      "SCC_encoded\n",
      "0    2015\n",
      "1      96\n",
      "Name: count, dtype: int64\n"
     ]
    }
   ],
   "source": [
    "# Convert to numeric.\n",
    "binary_encoding_map = {'yes':1, 'no':0}\n",
    "obs_df['family_history_with_overweight_encoded'] = obs_df['family_history_with_overweight'].map(binary_encoding_map)\n",
    "obs_df['FAVC_encoded'] = obs_df['FAVC'].map(binary_encoding_map)\n",
    "obs_df['SMOKE_encoded'] = obs_df['SMOKE'].map(binary_encoding_map)\n",
    "obs_df['SCC_encoded'] = obs_df['SCC'].map(binary_encoding_map)\n",
    "\n",
    "# Check the values using a for loop\n",
    "for col in ['family_history_with_overweight_encoded', 'FAVC_encoded', 'SMOKE_encoded', 'SCC_encoded']:\n",
    "    print(obs_df[col].value_counts().sort_index())"
   ]
  },
  {
   "cell_type": "markdown",
   "metadata": {},
   "source": [
    "You can run the following `for` loop to check the results:"
   ]
  },
  {
   "cell_type": "markdown",
   "metadata": {},
   "source": [
    ">__Task 14__\n",
    ">\n",
    ">Retrieve rows where values are outliers in the __weight__ column\n",
    ">\n",
    ">- Calculate mean, 3 std above the mean and 3 std below the mean \n",
    ">- Create a filter (a boolean vector) that returns true if values are less than `mean-3*sd` or greater than `mean+3*sd`\n",
    ">- Use this filter to retrieve the outliers"
   ]
  },
  {
   "cell_type": "code",
   "execution_count": 72,
   "metadata": {},
   "outputs": [
    {
     "name": "stdout",
     "output_type": "stream",
     "text": [
      "Mean: 86.58605812648035 std: 26.191171745204688\n"
     ]
    }
   ],
   "source": [
    "# Find the upper bound, mean, and lower bound\n",
    "weight = obs_df['weight']\n",
    "mean   = weight.mean()\n",
    "sd     = weight.std()\n",
    "\n",
    "print('Mean:', mean, 'std:', sd) \n",
    "\n",
    "# Calculate the upper and lower bounds\n",
    "upper_bound = mean + 3*sd\n",
    "lower_bound = mean - 3*sd"
   ]
  },
  {
   "cell_type": "code",
   "execution_count": 73,
   "metadata": {},
   "outputs": [
    {
     "data": {
      "text/html": [
       "<div>\n",
       "<style scoped>\n",
       "    .dataframe tbody tr th:only-of-type {\n",
       "        vertical-align: middle;\n",
       "    }\n",
       "\n",
       "    .dataframe tbody tr th {\n",
       "        vertical-align: top;\n",
       "    }\n",
       "\n",
       "    .dataframe thead th {\n",
       "        text-align: right;\n",
       "    }\n",
       "</style>\n",
       "<table border=\"1\" class=\"dataframe\">\n",
       "  <thead>\n",
       "    <tr style=\"text-align: right;\">\n",
       "      <th></th>\n",
       "      <th>year</th>\n",
       "      <th>month</th>\n",
       "      <th>day</th>\n",
       "      <th>gender</th>\n",
       "      <th>age</th>\n",
       "      <th>height</th>\n",
       "      <th>weight</th>\n",
       "      <th>family_history_with_overweight</th>\n",
       "      <th>FAVC</th>\n",
       "      <th>FCVC</th>\n",
       "      <th>...</th>\n",
       "      <th>CALC_encoded</th>\n",
       "      <th>Automobile</th>\n",
       "      <th>Bike</th>\n",
       "      <th>Motorbike</th>\n",
       "      <th>Public_Transportation</th>\n",
       "      <th>Walking</th>\n",
       "      <th>family_history_with_overweight_encoded</th>\n",
       "      <th>FAVC_encoded</th>\n",
       "      <th>SMOKE_encoded</th>\n",
       "      <th>SCC_encoded</th>\n",
       "    </tr>\n",
       "  </thead>\n",
       "  <tbody>\n",
       "    <tr>\n",
       "      <th>344</th>\n",
       "      <td>2016</td>\n",
       "      <td>1</td>\n",
       "      <td>5</td>\n",
       "      <td>Male</td>\n",
       "      <td>18.0</td>\n",
       "      <td>1.87</td>\n",
       "      <td>173.0</td>\n",
       "      <td>yes</td>\n",
       "      <td>yes</td>\n",
       "      <td>3.0</td>\n",
       "      <td>...</td>\n",
       "      <td>1</td>\n",
       "      <td>False</td>\n",
       "      <td>False</td>\n",
       "      <td>False</td>\n",
       "      <td>True</td>\n",
       "      <td>False</td>\n",
       "      <td>1</td>\n",
       "      <td>1</td>\n",
       "      <td>0</td>\n",
       "      <td>0</td>\n",
       "    </tr>\n",
       "  </tbody>\n",
       "</table>\n",
       "<p>1 rows × 32 columns</p>\n",
       "</div>"
      ],
      "text/plain": [
       "     year  month  day gender   age  height  weight  \\\n",
       "344  2016      1    5   Male  18.0    1.87   173.0   \n",
       "\n",
       "    family_history_with_overweight FAVC  FCVC  ...  CALC_encoded Automobile  \\\n",
       "344                            yes  yes   3.0  ...             1      False   \n",
       "\n",
       "      Bike  Motorbike Public_Transportation  Walking  \\\n",
       "344  False      False                  True    False   \n",
       "\n",
       "     family_history_with_overweight_encoded FAVC_encoded SMOKE_encoded  \\\n",
       "344                                       1            1             0   \n",
       "\n",
       "    SCC_encoded  \n",
       "344           0  \n",
       "\n",
       "[1 rows x 32 columns]"
      ]
     },
     "execution_count": 73,
     "metadata": {},
     "output_type": "execute_result"
    }
   ],
   "source": [
    "# Create a filter and retrieve the outliers\n",
    "outliers = (weight > upper_bound) | (weight < lower_bound)\n",
    "\n",
    "# Retrieve the outliers\n",
    "obs_df[outliers]"
   ]
  },
  {
   "cell_type": "markdown",
   "metadata": {},
   "source": [
    "You can use the same method to find out outliers in the other columns. But there's a easier way to find out all in once using the `for` loop:"
   ]
  },
  {
   "cell_type": "markdown",
   "metadata": {},
   "source": [
    ">__Task 15__\n",
    ">\n",
    ">Split the data set into 80% train set and 20% test set\n",
    ">\n",
    ">- The target variable is __NObesity_encoded__\n",
    ">- The feature columns are __age__, __height__, __weight__, __FCVC__, __NCP__, __CH2O__, __CAEC_encoded__, __CALC_encoded__, __Automobile__, __Bike__, __Motorbike__, __Public_Transportation__, __Walking__, __family_history_with_overweight_encoded__, __FAVC_encoded__, __SMOKE_encoded__, __SCC_encoded__\n",
    ">\n",
    ">Remember our target variable has multiple categories? Do you need to consider stratified splitting?"
   ]
  },
  {
   "cell_type": "code",
   "execution_count": 76,
   "metadata": {},
   "outputs": [],
   "source": [
    "from sklearn.model_selection import train_test_split\n",
    "target_var = 'NObesity_encoded'\n",
    "feature_var = ['age', 'height', 'weight', 'FCVC', 'NCP', 'CH2O', 'CAEC_encoded', 'CALC_encoded',\n",
    "               'Automobile', 'Bike', 'Motorbike', 'Public_Transportation', 'Walking',\n",
    "               'family_history_with_overweight_encoded', 'FAVC_encoded', 'SMOKE_encoded', 'SCC_encoded']\n",
    "# Our target variable is NObesity_encoded, which has 7 different categories (0 to 6). Therefore, we consider stratified splitting\n",
    "X_train, X_test, y_train, y_test = train_test_split(obs_df[feature_var], obs_df[target_var], test_size=0.2, stratify=obs_df[target_var])"
   ]
  },
  {
   "cell_type": "code",
   "execution_count": 77,
   "metadata": {},
   "outputs": [
    {
     "name": "stdout",
     "output_type": "stream",
     "text": [
      "NObesity_encoded\n",
      "4    281\n",
      "6    259\n",
      "5    237\n",
      "3    232\n",
      "2    232\n",
      "1    229\n",
      "0    218\n",
      "Name: count, dtype: int64 NObesity_encoded\n",
      "4    70\n",
      "6    65\n",
      "5    60\n",
      "2    58\n",
      "1    58\n",
      "3    58\n",
      "0    54\n",
      "Name: count, dtype: int64\n"
     ]
    }
   ],
   "source": [
    "# Check the target var distribution in train set vs test set\n",
    "print(y_train.value_counts(), y_test.value_counts())"
   ]
  },
  {
   "cell_type": "markdown",
   "metadata": {},
   "source": [
    ">__Task 16__\n",
    ">\n",
    ">- Apply `MinMaxScaler` to scale columns __age__, __height__, __weight__, __FCVC__, __NCP__, __CH2O__ between 0 and 1. Do you need to scale the encoded categorical variables?\n",
    ">- Implement the scaler to both train and test sets from the above task. Hint: you can assign the scaled value to `X_train[cols]` and `X_test[cols]`."
   ]
  },
  {
   "cell_type": "code",
   "execution_count": 78,
   "metadata": {},
   "outputs": [
    {
     "data": {
      "text/html": [
       "<div>\n",
       "<style scoped>\n",
       "    .dataframe tbody tr th:only-of-type {\n",
       "        vertical-align: middle;\n",
       "    }\n",
       "\n",
       "    .dataframe tbody tr th {\n",
       "        vertical-align: top;\n",
       "    }\n",
       "\n",
       "    .dataframe thead th {\n",
       "        text-align: right;\n",
       "    }\n",
       "</style>\n",
       "<table border=\"1\" class=\"dataframe\">\n",
       "  <thead>\n",
       "    <tr style=\"text-align: right;\">\n",
       "      <th></th>\n",
       "      <th>age</th>\n",
       "      <th>height</th>\n",
       "      <th>weight</th>\n",
       "      <th>FCVC</th>\n",
       "      <th>NCP</th>\n",
       "      <th>CH2O</th>\n",
       "      <th>CAEC_encoded</th>\n",
       "      <th>CALC_encoded</th>\n",
       "      <th>Automobile</th>\n",
       "      <th>Bike</th>\n",
       "      <th>Motorbike</th>\n",
       "      <th>Public_Transportation</th>\n",
       "      <th>Walking</th>\n",
       "      <th>family_history_with_overweight_encoded</th>\n",
       "      <th>FAVC_encoded</th>\n",
       "      <th>SMOKE_encoded</th>\n",
       "      <th>SCC_encoded</th>\n",
       "    </tr>\n",
       "  </thead>\n",
       "  <tbody>\n",
       "    <tr>\n",
       "      <th>409</th>\n",
       "      <td>33.000000</td>\n",
       "      <td>1.550000</td>\n",
       "      <td>55.000000</td>\n",
       "      <td>3.000000</td>\n",
       "      <td>1.000000</td>\n",
       "      <td>3.000000</td>\n",
       "      <td>1</td>\n",
       "      <td>1</td>\n",
       "      <td>False</td>\n",
       "      <td>False</td>\n",
       "      <td>False</td>\n",
       "      <td>True</td>\n",
       "      <td>False</td>\n",
       "      <td>1</td>\n",
       "      <td>1</td>\n",
       "      <td>0</td>\n",
       "      <td>0</td>\n",
       "    </tr>\n",
       "    <tr>\n",
       "      <th>1079</th>\n",
       "      <td>24.751511</td>\n",
       "      <td>1.735343</td>\n",
       "      <td>83.337721</td>\n",
       "      <td>2.607335</td>\n",
       "      <td>3.000000</td>\n",
       "      <td>2.000000</td>\n",
       "      <td>1</td>\n",
       "      <td>1</td>\n",
       "      <td>False</td>\n",
       "      <td>False</td>\n",
       "      <td>False</td>\n",
       "      <td>True</td>\n",
       "      <td>False</td>\n",
       "      <td>1</td>\n",
       "      <td>1</td>\n",
       "      <td>0</td>\n",
       "      <td>0</td>\n",
       "    </tr>\n",
       "    <tr>\n",
       "      <th>1994</th>\n",
       "      <td>21.282238</td>\n",
       "      <td>1.748951</td>\n",
       "      <td>133.662583</td>\n",
       "      <td>3.000000</td>\n",
       "      <td>3.000000</td>\n",
       "      <td>2.247979</td>\n",
       "      <td>1</td>\n",
       "      <td>1</td>\n",
       "      <td>False</td>\n",
       "      <td>False</td>\n",
       "      <td>False</td>\n",
       "      <td>True</td>\n",
       "      <td>False</td>\n",
       "      <td>1</td>\n",
       "      <td>1</td>\n",
       "      <td>0</td>\n",
       "      <td>0</td>\n",
       "    </tr>\n",
       "    <tr>\n",
       "      <th>2067</th>\n",
       "      <td>23.647935</td>\n",
       "      <td>1.681394</td>\n",
       "      <td>114.479459</td>\n",
       "      <td>3.000000</td>\n",
       "      <td>3.000000</td>\n",
       "      <td>2.435978</td>\n",
       "      <td>1</td>\n",
       "      <td>1</td>\n",
       "      <td>False</td>\n",
       "      <td>False</td>\n",
       "      <td>False</td>\n",
       "      <td>True</td>\n",
       "      <td>False</td>\n",
       "      <td>1</td>\n",
       "      <td>1</td>\n",
       "      <td>0</td>\n",
       "      <td>0</td>\n",
       "    </tr>\n",
       "    <tr>\n",
       "      <th>587</th>\n",
       "      <td>18.482070</td>\n",
       "      <td>1.700000</td>\n",
       "      <td>50.000000</td>\n",
       "      <td>1.592183</td>\n",
       "      <td>3.535016</td>\n",
       "      <td>1.086391</td>\n",
       "      <td>1</td>\n",
       "      <td>1</td>\n",
       "      <td>False</td>\n",
       "      <td>False</td>\n",
       "      <td>False</td>\n",
       "      <td>True</td>\n",
       "      <td>False</td>\n",
       "      <td>0</td>\n",
       "      <td>1</td>\n",
       "      <td>0</td>\n",
       "      <td>0</td>\n",
       "    </tr>\n",
       "  </tbody>\n",
       "</table>\n",
       "</div>"
      ],
      "text/plain": [
       "            age    height      weight      FCVC       NCP      CH2O  \\\n",
       "409   33.000000  1.550000   55.000000  3.000000  1.000000  3.000000   \n",
       "1079  24.751511  1.735343   83.337721  2.607335  3.000000  2.000000   \n",
       "1994  21.282238  1.748951  133.662583  3.000000  3.000000  2.247979   \n",
       "2067  23.647935  1.681394  114.479459  3.000000  3.000000  2.435978   \n",
       "587   18.482070  1.700000   50.000000  1.592183  3.535016  1.086391   \n",
       "\n",
       "      CAEC_encoded  CALC_encoded  Automobile   Bike  Motorbike  \\\n",
       "409              1             1       False  False      False   \n",
       "1079             1             1       False  False      False   \n",
       "1994             1             1       False  False      False   \n",
       "2067             1             1       False  False      False   \n",
       "587              1             1       False  False      False   \n",
       "\n",
       "      Public_Transportation  Walking  family_history_with_overweight_encoded  \\\n",
       "409                    True    False                                       1   \n",
       "1079                   True    False                                       1   \n",
       "1994                   True    False                                       1   \n",
       "2067                   True    False                                       1   \n",
       "587                    True    False                                       0   \n",
       "\n",
       "      FAVC_encoded  SMOKE_encoded  SCC_encoded  \n",
       "409              1              0            0  \n",
       "1079             1              0            0  \n",
       "1994             1              0            0  \n",
       "2067             1              0            0  \n",
       "587              1              0            0  "
      ]
     },
     "execution_count": 78,
     "metadata": {},
     "output_type": "execute_result"
    }
   ],
   "source": [
    "X_train.head()"
   ]
  },
  {
   "cell_type": "code",
   "execution_count": 80,
   "metadata": {},
   "outputs": [
    {
     "data": {
      "text/html": [
       "<div>\n",
       "<style scoped>\n",
       "    .dataframe tbody tr th:only-of-type {\n",
       "        vertical-align: middle;\n",
       "    }\n",
       "\n",
       "    .dataframe tbody tr th {\n",
       "        vertical-align: top;\n",
       "    }\n",
       "\n",
       "    .dataframe thead th {\n",
       "        text-align: right;\n",
       "    }\n",
       "</style>\n",
       "<table border=\"1\" class=\"dataframe\">\n",
       "  <thead>\n",
       "    <tr style=\"text-align: right;\">\n",
       "      <th></th>\n",
       "      <th>age</th>\n",
       "      <th>height</th>\n",
       "      <th>weight</th>\n",
       "      <th>FCVC</th>\n",
       "      <th>NCP</th>\n",
       "      <th>CH2O</th>\n",
       "      <th>CAEC_encoded</th>\n",
       "      <th>CALC_encoded</th>\n",
       "      <th>Automobile</th>\n",
       "      <th>Bike</th>\n",
       "      <th>Motorbike</th>\n",
       "      <th>Public_Transportation</th>\n",
       "      <th>Walking</th>\n",
       "      <th>family_history_with_overweight_encoded</th>\n",
       "      <th>FAVC_encoded</th>\n",
       "      <th>SMOKE_encoded</th>\n",
       "      <th>SCC_encoded</th>\n",
       "    </tr>\n",
       "  </thead>\n",
       "  <tbody>\n",
       "    <tr>\n",
       "      <th>409</th>\n",
       "      <td>0.404255</td>\n",
       "      <td>0.201043</td>\n",
       "      <td>0.126926</td>\n",
       "      <td>1.000000</td>\n",
       "      <td>0.000000</td>\n",
       "      <td>1.000000</td>\n",
       "      <td>1</td>\n",
       "      <td>1</td>\n",
       "      <td>False</td>\n",
       "      <td>False</td>\n",
       "      <td>False</td>\n",
       "      <td>True</td>\n",
       "      <td>False</td>\n",
       "      <td>1</td>\n",
       "      <td>1</td>\n",
       "      <td>0</td>\n",
       "      <td>0</td>\n",
       "    </tr>\n",
       "    <tr>\n",
       "      <th>1079</th>\n",
       "      <td>0.228756</td>\n",
       "      <td>0.573662</td>\n",
       "      <td>0.351727</td>\n",
       "      <td>0.803667</td>\n",
       "      <td>0.666667</td>\n",
       "      <td>0.500000</td>\n",
       "      <td>1</td>\n",
       "      <td>1</td>\n",
       "      <td>False</td>\n",
       "      <td>False</td>\n",
       "      <td>False</td>\n",
       "      <td>True</td>\n",
       "      <td>False</td>\n",
       "      <td>1</td>\n",
       "      <td>1</td>\n",
       "      <td>0</td>\n",
       "      <td>0</td>\n",
       "    </tr>\n",
       "    <tr>\n",
       "      <th>1994</th>\n",
       "      <td>0.154941</td>\n",
       "      <td>0.601020</td>\n",
       "      <td>0.750949</td>\n",
       "      <td>1.000000</td>\n",
       "      <td>0.666667</td>\n",
       "      <td>0.623989</td>\n",
       "      <td>1</td>\n",
       "      <td>1</td>\n",
       "      <td>False</td>\n",
       "      <td>False</td>\n",
       "      <td>False</td>\n",
       "      <td>True</td>\n",
       "      <td>False</td>\n",
       "      <td>1</td>\n",
       "      <td>1</td>\n",
       "      <td>0</td>\n",
       "      <td>0</td>\n",
       "    </tr>\n",
       "    <tr>\n",
       "      <th>2067</th>\n",
       "      <td>0.205275</td>\n",
       "      <td>0.465201</td>\n",
       "      <td>0.598771</td>\n",
       "      <td>1.000000</td>\n",
       "      <td>0.666667</td>\n",
       "      <td>0.717989</td>\n",
       "      <td>1</td>\n",
       "      <td>1</td>\n",
       "      <td>False</td>\n",
       "      <td>False</td>\n",
       "      <td>False</td>\n",
       "      <td>True</td>\n",
       "      <td>False</td>\n",
       "      <td>1</td>\n",
       "      <td>1</td>\n",
       "      <td>0</td>\n",
       "      <td>0</td>\n",
       "    </tr>\n",
       "    <tr>\n",
       "      <th>587</th>\n",
       "      <td>0.095363</td>\n",
       "      <td>0.502608</td>\n",
       "      <td>0.087262</td>\n",
       "      <td>0.296091</td>\n",
       "      <td>0.845005</td>\n",
       "      <td>0.043196</td>\n",
       "      <td>1</td>\n",
       "      <td>1</td>\n",
       "      <td>False</td>\n",
       "      <td>False</td>\n",
       "      <td>False</td>\n",
       "      <td>True</td>\n",
       "      <td>False</td>\n",
       "      <td>0</td>\n",
       "      <td>1</td>\n",
       "      <td>0</td>\n",
       "      <td>0</td>\n",
       "    </tr>\n",
       "  </tbody>\n",
       "</table>\n",
       "</div>"
      ],
      "text/plain": [
       "           age    height    weight      FCVC       NCP      CH2O  \\\n",
       "409   0.404255  0.201043  0.126926  1.000000  0.000000  1.000000   \n",
       "1079  0.228756  0.573662  0.351727  0.803667  0.666667  0.500000   \n",
       "1994  0.154941  0.601020  0.750949  1.000000  0.666667  0.623989   \n",
       "2067  0.205275  0.465201  0.598771  1.000000  0.666667  0.717989   \n",
       "587   0.095363  0.502608  0.087262  0.296091  0.845005  0.043196   \n",
       "\n",
       "      CAEC_encoded  CALC_encoded  Automobile   Bike  Motorbike  \\\n",
       "409              1             1       False  False      False   \n",
       "1079             1             1       False  False      False   \n",
       "1994             1             1       False  False      False   \n",
       "2067             1             1       False  False      False   \n",
       "587              1             1       False  False      False   \n",
       "\n",
       "      Public_Transportation  Walking  family_history_with_overweight_encoded  \\\n",
       "409                    True    False                                       1   \n",
       "1079                   True    False                                       1   \n",
       "1994                   True    False                                       1   \n",
       "2067                   True    False                                       1   \n",
       "587                    True    False                                       0   \n",
       "\n",
       "      FAVC_encoded  SMOKE_encoded  SCC_encoded  \n",
       "409              1              0            0  \n",
       "1079             1              0            0  \n",
       "1994             1              0            0  \n",
       "2067             1              0            0  \n",
       "587              1              0            0  "
      ]
     },
     "execution_count": 80,
     "metadata": {},
     "output_type": "execute_result"
    }
   ],
   "source": [
    "# Note that the scaler will need to fit to train set\n",
    "from sklearn.preprocessing import MinMaxScaler\n",
    "minmax = MinMaxScaler()\n",
    "scale_cols = ['age', 'height', 'weight', 'FCVC', 'NCP', 'CH2O']\n",
    "# Fit the scaler to the train set\n",
    "minmax.fit(X_train[scale_cols])\n",
    "\n",
    "# Transform both train and test sets\n",
    "X_train[scale_cols] = minmax.transform(X_train[scale_cols])\n",
    "X_test[scale_cols]  = minmax.transform(X_test[scale_cols])\n",
    "\n",
    "X_train.head()"
   ]
  },
  {
   "cell_type": "markdown",
   "metadata": {},
   "source": [
    "# Regression "
   ]
  },
  {
   "cell_type": "code",
   "execution_count": 83,
   "metadata": {},
   "outputs": [],
   "source": [
    "from ISLP import load_data\n",
    "from ISLP.models import (ModelSpec as MS,summarize , poly)\n",
    "\n",
    "import pandas as pd\n",
    "import seaborn as sns\n",
    "import matplotlib.pyplot as plt\n"
   ]
  },
  {
   "cell_type": "code",
   "execution_count": 84,
   "metadata": {},
   "outputs": [
    {
     "data": {
      "text/plain": [
       "Index(['crim', 'zn', 'indus', 'chas', 'nox', 'rm', 'age', 'dis', 'rad', 'tax',\n",
       "       'ptratio', 'lstat', 'medv'],\n",
       "      dtype='object')"
      ]
     },
     "execution_count": 84,
     "metadata": {},
     "output_type": "execute_result"
    }
   ],
   "source": [
    "## Load Boston Data\n",
    "boston = load_data(\"Boston\") \n",
    "boston.columns"
   ]
  },
  {
   "cell_type": "markdown",
   "metadata": {},
   "source": [
    "According to the [Kaggle page](https://www.kaggle.com/datasets/avish5787/boston-data-set), below you can find the details:"
   ]
  },
  {
   "cell_type": "markdown",
   "metadata": {},
   "source": [
    "- CRIM - per capita crime rate by town\n",
    "- ZN - proportion of residential land zoned for lots over 25,000 sq.ft.\n",
    "- INDUS - proportion of non-retail business acres per town.\n",
    "- CHAS - Charles River dummy variable (1 if tract bounds river; 0 otherwise)\n",
    "- NOX - nitric oxides concentration (parts per 10 million)\n",
    "- RM - average number of rooms per dwelling\n",
    "- AGE - proportion of owner-occupied units built prior to 1940\n",
    "- DIS - weighted distances to five Boston employment centres\n",
    "- RAD - index of accessibility to radial highways\n",
    "- TAX - full-value property-tax rate per \\$10,000\n",
    "- PTRATIO - pupil-teacher ratio by town\n",
    "- B - 1000(Bk - 0.63)^2 where Bk is the proportion of blacks by town\n",
    "- LSTAT - \\% lower status of the population\n",
    "- MEDV - Median value of owner-occupied homes in \\$1000's"
   ]
  },
  {
   "cell_type": "markdown",
   "metadata": {},
   "source": [
    ">__Task 17__\n",
    ">\n",
    "> Give a first look at your data. Print how many row/columns in the data, print the first 5 rows and use .info to learn more about it."
   ]
  },
  {
   "cell_type": "code",
   "execution_count": 85,
   "metadata": {},
   "outputs": [
    {
     "data": {
      "text/plain": [
       "(506, 13)"
      ]
     },
     "execution_count": 85,
     "metadata": {},
     "output_type": "execute_result"
    }
   ],
   "source": [
    "# row/column counts\n",
    "boston.shape"
   ]
  },
  {
   "cell_type": "code",
   "execution_count": 86,
   "metadata": {},
   "outputs": [
    {
     "data": {
      "text/html": [
       "<div>\n",
       "<style scoped>\n",
       "    .dataframe tbody tr th:only-of-type {\n",
       "        vertical-align: middle;\n",
       "    }\n",
       "\n",
       "    .dataframe tbody tr th {\n",
       "        vertical-align: top;\n",
       "    }\n",
       "\n",
       "    .dataframe thead th {\n",
       "        text-align: right;\n",
       "    }\n",
       "</style>\n",
       "<table border=\"1\" class=\"dataframe\">\n",
       "  <thead>\n",
       "    <tr style=\"text-align: right;\">\n",
       "      <th></th>\n",
       "      <th>crim</th>\n",
       "      <th>zn</th>\n",
       "      <th>indus</th>\n",
       "      <th>chas</th>\n",
       "      <th>nox</th>\n",
       "      <th>rm</th>\n",
       "      <th>age</th>\n",
       "      <th>dis</th>\n",
       "      <th>rad</th>\n",
       "      <th>tax</th>\n",
       "      <th>ptratio</th>\n",
       "      <th>lstat</th>\n",
       "      <th>medv</th>\n",
       "    </tr>\n",
       "  </thead>\n",
       "  <tbody>\n",
       "    <tr>\n",
       "      <th>0</th>\n",
       "      <td>0.00632</td>\n",
       "      <td>18.0</td>\n",
       "      <td>2.31</td>\n",
       "      <td>0</td>\n",
       "      <td>0.538</td>\n",
       "      <td>6.575</td>\n",
       "      <td>65.2</td>\n",
       "      <td>4.0900</td>\n",
       "      <td>1</td>\n",
       "      <td>296</td>\n",
       "      <td>15.3</td>\n",
       "      <td>4.98</td>\n",
       "      <td>24.0</td>\n",
       "    </tr>\n",
       "    <tr>\n",
       "      <th>1</th>\n",
       "      <td>0.02731</td>\n",
       "      <td>0.0</td>\n",
       "      <td>7.07</td>\n",
       "      <td>0</td>\n",
       "      <td>0.469</td>\n",
       "      <td>6.421</td>\n",
       "      <td>78.9</td>\n",
       "      <td>4.9671</td>\n",
       "      <td>2</td>\n",
       "      <td>242</td>\n",
       "      <td>17.8</td>\n",
       "      <td>9.14</td>\n",
       "      <td>21.6</td>\n",
       "    </tr>\n",
       "    <tr>\n",
       "      <th>2</th>\n",
       "      <td>0.02729</td>\n",
       "      <td>0.0</td>\n",
       "      <td>7.07</td>\n",
       "      <td>0</td>\n",
       "      <td>0.469</td>\n",
       "      <td>7.185</td>\n",
       "      <td>61.1</td>\n",
       "      <td>4.9671</td>\n",
       "      <td>2</td>\n",
       "      <td>242</td>\n",
       "      <td>17.8</td>\n",
       "      <td>4.03</td>\n",
       "      <td>34.7</td>\n",
       "    </tr>\n",
       "    <tr>\n",
       "      <th>3</th>\n",
       "      <td>0.03237</td>\n",
       "      <td>0.0</td>\n",
       "      <td>2.18</td>\n",
       "      <td>0</td>\n",
       "      <td>0.458</td>\n",
       "      <td>6.998</td>\n",
       "      <td>45.8</td>\n",
       "      <td>6.0622</td>\n",
       "      <td>3</td>\n",
       "      <td>222</td>\n",
       "      <td>18.7</td>\n",
       "      <td>2.94</td>\n",
       "      <td>33.4</td>\n",
       "    </tr>\n",
       "    <tr>\n",
       "      <th>4</th>\n",
       "      <td>0.06905</td>\n",
       "      <td>0.0</td>\n",
       "      <td>2.18</td>\n",
       "      <td>0</td>\n",
       "      <td>0.458</td>\n",
       "      <td>7.147</td>\n",
       "      <td>54.2</td>\n",
       "      <td>6.0622</td>\n",
       "      <td>3</td>\n",
       "      <td>222</td>\n",
       "      <td>18.7</td>\n",
       "      <td>5.33</td>\n",
       "      <td>36.2</td>\n",
       "    </tr>\n",
       "  </tbody>\n",
       "</table>\n",
       "</div>"
      ],
      "text/plain": [
       "      crim    zn  indus  chas    nox     rm   age     dis  rad  tax  ptratio  \\\n",
       "0  0.00632  18.0   2.31     0  0.538  6.575  65.2  4.0900    1  296     15.3   \n",
       "1  0.02731   0.0   7.07     0  0.469  6.421  78.9  4.9671    2  242     17.8   \n",
       "2  0.02729   0.0   7.07     0  0.469  7.185  61.1  4.9671    2  242     17.8   \n",
       "3  0.03237   0.0   2.18     0  0.458  6.998  45.8  6.0622    3  222     18.7   \n",
       "4  0.06905   0.0   2.18     0  0.458  7.147  54.2  6.0622    3  222     18.7   \n",
       "\n",
       "   lstat  medv  \n",
       "0   4.98  24.0  \n",
       "1   9.14  21.6  \n",
       "2   4.03  34.7  \n",
       "3   2.94  33.4  \n",
       "4   5.33  36.2  "
      ]
     },
     "execution_count": 86,
     "metadata": {},
     "output_type": "execute_result"
    }
   ],
   "source": [
    "# first 5 row\n",
    "boston.head()"
   ]
  },
  {
   "cell_type": "code",
   "execution_count": 87,
   "metadata": {},
   "outputs": [
    {
     "name": "stdout",
     "output_type": "stream",
     "text": [
      "<class 'pandas.core.frame.DataFrame'>\n",
      "RangeIndex: 506 entries, 0 to 505\n",
      "Data columns (total 13 columns):\n",
      " #   Column   Non-Null Count  Dtype  \n",
      "---  ------   --------------  -----  \n",
      " 0   crim     506 non-null    float64\n",
      " 1   zn       506 non-null    float64\n",
      " 2   indus    506 non-null    float64\n",
      " 3   chas     506 non-null    int64  \n",
      " 4   nox      506 non-null    float64\n",
      " 5   rm       506 non-null    float64\n",
      " 6   age      506 non-null    float64\n",
      " 7   dis      506 non-null    float64\n",
      " 8   rad      506 non-null    int64  \n",
      " 9   tax      506 non-null    int64  \n",
      " 10  ptratio  506 non-null    float64\n",
      " 11  lstat    506 non-null    float64\n",
      " 12  medv     506 non-null    float64\n",
      "dtypes: float64(10), int64(3)\n",
      "memory usage: 51.5 KB\n"
     ]
    }
   ],
   "source": [
    "# info\n",
    "boston.info()"
   ]
  },
  {
   "cell_type": "markdown",
   "metadata": {},
   "source": [
    ">__Task 18__\n",
    ">\n",
    "> Using seaborn package, plot the scatterplot of the data. On map `lstat` on x axis and `medv` on y axis. Use `hue` option to map `indus` to colour and `style` option to map `chas` to style "
   ]
  },
  {
   "cell_type": "code",
   "execution_count": 88,
   "metadata": {},
   "outputs": [
    {
     "data": {
      "image/png": "[encoded data removed]",
      "text/plain": [
       "<Figure size 640x480 with 1 Axes>"
      ]
     },
     "metadata": {},
     "output_type": "display_data"
    }
   ],
   "source": [
    "sns.scatterplot(data=boston, x='lstat', y='medv', hue='indus', style='chas')\n",
    "plt.show()"
   ]
  },
  {
   "cell_type": "markdown",
   "metadata": {},
   "source": [
    "It looks there is negative correlation between the median value of houses \\% of lower status of the population. Also as colours suggest, as the proportion of industrial residences increase price reduces."
   ]
  },
  {
   "cell_type": "markdown",
   "metadata": {},
   "source": [
    ">__Task 19__\n",
    ">\n",
    "> - Apply train test split to the data. Use 'medv' as output (y) values and everything else as input variables.\n",
    "> - The test size must be 20% of the data.\n",
    "> - Set randomm state to 156."
   ]
  },
  {
   "cell_type": "code",
   "execution_count": 89,
   "metadata": {},
   "outputs": [
    {
     "name": "stdout",
     "output_type": "stream",
     "text": [
      "(404, 12) (102, 12) (404,) (102,)\n"
     ]
    }
   ],
   "source": [
    "from sklearn.model_selection import train_test_split\n",
    "\n",
    "y = boston['medv']\n",
    "X = boston.drop(['medv'], axis=1)\n",
    "\n",
    "X_train, X_test, y_train, y_test = train_test_split(X, y, test_size=0.2, random_state=156)\n",
    "\n",
    "# Print the shape of the train and test sets\n",
    "print(X_train.shape, X_test.shape, y_train.shape, y_test.shape)"
   ]
  },
  {
   "cell_type": "markdown",
   "metadata": {},
   "source": [
    "### Fit Linear Model"
   ]
  },
  {
   "cell_type": "markdown",
   "metadata": {},
   "source": [
    "Below code fits a simple linear regression to model the relationship between `lstat` and `medv` and plots the model.\n",
    "- First we initiate the model\n",
    "- Then fit the model on train set\n",
    "- And finally calculate the test set (MAE and MSE) performance"
   ]
  },
  {
   "cell_type": "code",
   "execution_count": 90,
   "metadata": {},
   "outputs": [],
   "source": [
    "from sklearn.linear_model import LinearRegression\n",
    "# Initiate the model\n",
    "lm = LinearRegression()\n",
    "\n",
    "# Fit \n",
    "lm = lm.fit(X_train[['lstat']], y_train)"
   ]
  },
  {
   "cell_type": "markdown",
   "metadata": {},
   "source": [
    "The estimated coefficients are"
   ]
  },
  {
   "cell_type": "code",
   "execution_count": 91,
   "metadata": {},
   "outputs": [
    {
     "name": "stdout",
     "output_type": "stream",
     "text": [
      "34.517017608995346\n",
      "[-0.93555899]\n"
     ]
    }
   ],
   "source": [
    "print(lm.intercept_)\n",
    "print(lm.coef_)"
   ]
  },
  {
   "cell_type": "markdown",
   "metadata": {},
   "source": [
    "Now, lets plot the model"
   ]
  },
  {
   "cell_type": "code",
   "execution_count": 93,
   "metadata": {},
   "outputs": [
    {
     "data": {
      "image/png": "[encoded data removed]",
      "text/plain": [
       "<Figure size 640x480 with 1 Axes>"
      ]
     },
     "metadata": {},
     "output_type": "display_data"
    }
   ],
   "source": [
    "# Plot the scatterplot\n",
    "sns.scatterplot(data=boston, x=\"lstat\", y=\"medv\")\n",
    "\n",
    "# Add predictions\n",
    "preds = lm.predict(X[['lstat']])\n",
    "\n",
    "plt.plot(X[['lstat']],preds,c='black')\n",
    "plt.show()"
   ]
  },
  {
   "cell_type": "code",
   "execution_count": 94,
   "metadata": {},
   "outputs": [
    {
     "name": "stdout",
     "output_type": "stream",
     "text": [
      "MAE (test):  4.028446545899698\n",
      "MSE (test):  32.11201604073027\n"
     ]
    }
   ],
   "source": [
    "from sklearn import metrics \n",
    "\n",
    "# Calculate the predictions on test set\n",
    "preds = lm.predict(X_test[['lstat']])\n",
    "\n",
    "print('MAE (test): ',metrics.mean_absolute_error(y_test,preds))\n",
    "print('MSE (test): ',metrics.mean_squared_error(y_test,preds))"
   ]
  },
  {
   "cell_type": "markdown",
   "metadata": {},
   "source": [
    ">__Task 20__\n",
    ">\n",
    "> - Fit a multi-linear regression. Use `['lstat','rm', 'nox']` as independent (input) variables and `medv` as dependent (output)\n",
    "> - Fit the model on train set\n",
    "> - Print the model coefficients\n",
    "> - Calculate the predictions on test set\n",
    "> - Print the test set MAE and MSE.\n",
    "> - Does the mean absolute and mean squarred errors reduce?"
   ]
  },
  {
   "cell_type": "code",
   "execution_count": 100,
   "metadata": {},
   "outputs": [
    {
     "name": "stdout",
     "output_type": "stream",
     "text": [
      "Intercept: 0.288152908030888\n",
      "Coefficent: [-0.61450609  4.96548421 -1.73878295]\n",
      "MAE (test):  3.6461922548779215\n",
      "MSE (test):  23.60813210694918\n"
     ]
    }
   ],
   "source": [
    "# Initiate and fit a multi-linear Regression model\n",
    "lm = LinearRegression()\n",
    "lm = lm.fit(X_train[['lstat','rm', 'nox']], y_train)\n",
    "\n",
    "# Print the coefficients\n",
    "print('Intercept:', lm.intercept_)\n",
    "print('Coefficent:', lm.coef_)\n",
    "\n",
    "# Predict on test set\n",
    "preds = lm.predict(X_test[['lstat','rm', 'nox']])\n",
    "\n",
    "# Calculate performance\n",
    "print('MAE (test): ',metrics.mean_absolute_error(y_test,preds))\n",
    "print('MSE (test): ',metrics.mean_squared_error(y_test,preds))\n",
    "\n",
    "# The mean absolute and mean squarred errors have now reduced."
   ]
  },
  {
   "cell_type": "markdown",
   "metadata": {},
   "source": [
    "### Polynomial regression\n",
    "\n",
    "Polynomian regressions are nonlinear models that are trained using the same way that linear models are trained. Only difference is, instead of just inputting the features (independent variables) themselves, we also calculate their powers (square, cube, 4th degree etc) and input the model.\n",
    "\n",
    "Let's train a 4th-degree polynomial regression using only `lstat` as input. "
   ]
  },
  {
   "cell_type": "code",
   "execution_count": null,
   "metadata": {},
   "outputs": [
    {
     "data": {
      "image/png": "[encoded data removed]",
      "text/plain": [
       "<Figure size 640x480 with 1 Axes>"
      ]
     },
     "metadata": {},
     "output_type": "display_data"
    }
   ],
   "source": [
    "from sklearn.preprocessing import PolynomialFeatures\n",
    "\n",
    "poly    = PolynomialFeatures (degree=4, include_bias=False)\n",
    "x_trn   = poly.fit_transform(X_train['lstat'].to_numpy().reshape(-1,1))\n",
    "\n",
    "lm = LinearRegression()\n",
    "lm = lm.fit(x_trn, y_train)\n",
    "\n",
    "x     = poly.transform(X['lstat'].to_numpy().reshape(-1,1))\n",
    "preds = lm.predict(x)\n",
    "\n",
    "# Plot the scatterplot\n",
    "sns.scatterplot(data=boston, x=\"lstat\", y=\"medv\")\n",
    "\n",
    "# Add predictions\n",
    "plt.scatter(X[['lstat']],preds,c='black')\n",
    "plt.show()"
   ]
  },
  {
   "cell_type": "markdown",
   "metadata": {},
   "source": [
    "As seen above the predictions are not linear but can be 4th degree polynomial function"
   ]
  },
  {
   "cell_type": "markdown",
   "metadata": {},
   "source": [
    "### Overfitting"
   ]
  },
  {
   "cell_type": "markdown",
   "metadata": {},
   "source": [
    ">__Task 21__\n",
    ">\n",
    "> - Complete the below code that fits polynomial regression with degree = 1,2,...,12 iteratively on train set and calculate the test set performance. Remember that in Python range(a,b) generates the series [a,a+1,...,b-1].\n",
    "> - The test MSE calculations are collected in a list, `MSEs`\n",
    "> - Plot the MSE against the degree of the polynomial regression.\n",
    "> - Which polynomial degree minimizes the test loss?\n"
   ]
  },
  {
   "cell_type": "code",
   "execution_count": 108,
   "metadata": {},
   "outputs": [
    {
     "name": "stdout",
     "output_type": "stream",
     "text": [
      "MSE (test):  32.11201604073027\n",
      "MSE (test):  28.427942440252203\n",
      "MSE (test):  27.05706529861559\n",
      "MSE (test):  26.704807249942\n",
      "MSE (test):  26.06341941601981\n",
      "MSE (test):  26.30923561863523\n",
      "MSE (test):  26.30043628469198\n",
      "MSE (test):  27.185534857272696\n",
      "MSE (test):  26.893412078841497\n",
      "MSE (test):  26.54257191200972\n",
      "MSE (test):  27.626560387354957\n",
      "MSE (test):  31.05799037719208\n"
     ]
    }
   ],
   "source": [
    "from sklearn.preprocessing import PolynomialFeatures\n",
    "\n",
    "MSEs = []\n",
    "# Fit model and collect performance iteratively\n",
    "for i in range(1, 13):\n",
    "    # Fit a Linear Regression model\n",
    "    poly = PolynomialFeatures(degree=i, include_bias=False)\n",
    "    x_trn = poly.fit_transform(X_train['lstat'].to_numpy().reshape(-1, 1))\n",
    "    \n",
    "    lm = LinearRegression()\n",
    "    lm = lm.fit(x_trn, y_train)\n",
    "    \n",
    "    # Predict on test set\n",
    "    x_test = poly.transform(X_test['lstat'].to_numpy().reshape(-1, 1))\n",
    "    preds = lm.predict(x_test)\n",
    "    \n",
    "    # Calculate performance\n",
    "    mse = metrics.mean_squared_error(y_test, preds)\n",
    "    MSEs.append(mse)\n",
    "    print('MSE (test): ', mse)\n",
    "    "
   ]
  },
  {
   "cell_type": "markdown",
   "metadata": {},
   "source": [
    "Plot the MSE against the degree of the polynomial regression"
   ]
  },
  {
   "cell_type": "code",
   "execution_count": 110,
   "metadata": {},
   "outputs": [
    {
     "data": {
      "image/png": "[encoded data removed]",
      "text/plain": [
       "<Figure size 640x480 with 1 Axes>"
      ]
     },
     "metadata": {},
     "output_type": "display_data"
    }
   ],
   "source": [
    "# Plot the MSE against the degree of the polynomial regression\n",
    "plt.plot(range(1, 13), MSEs)\n",
    "plt.xlabel('Degree')\n",
    "plt.ylabel('MSE')\n",
    "plt.show()"
   ]
  }
 ],
 "metadata": {
  "kernelspec": {
   "display_name": "MSE446",
   "language": "python",
   "name": "python3"
  },
  "language_info": {
   "codemirror_mode": {
    "name": "ipython",
    "version": 3
   },
   "file_extension": ".py",
   "mimetype": "text/x-python",
   "name": "python",
   "nbconvert_exporter": "python",
   "pygments_lexer": "ipython3",
   "version": "3.12.8"
  }
 },
 "nbformat": 4,
 "nbformat_minor": 4
}
